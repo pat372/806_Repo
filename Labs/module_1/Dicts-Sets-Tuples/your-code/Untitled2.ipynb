{
 "cells": [
  {
   "cell_type": "code",
   "execution_count": 1,
   "metadata": {},
   "outputs": [],
   "source": [
    "# GLOBAL VARIABLES\n",
    "numbers_dictionary = {\"zero\": 0, \"one\":1, \"two\":2, \"three\":3, \"four\":4, \"five\":5,\n",
    "                      \"six\": 6, \"seven\":7, \"eight\":8, \"nine\":9, \"ten\":10,\n",
    "                      \"negative one\": -1, \"negative two\":-2, \"negative three\":-3, \"negative four\":-4, \"negative five\": -5}\n",
    "numbers_dictionary_inverted = {value: key for key, value in numbers_dictionary.items()}\n",
    "operators_list = [\"plus\", \"minus\"]"
   ]
  },
  {
   "cell_type": "code",
   "execution_count": 2,
   "metadata": {},
   "outputs": [],
   "source": [
    "def operation (a, b , operator):\n",
    "    if operator == \"plus\":\n",
    "        result = numbers_dictionary[a]+numbers_dictionary[b]\n",
    "    else:\n",
    "        result = numbers_dictionary[a]-numbers_dictionary[b]\n",
    "    return f\"{a} {operator} {b} equals {numbers_dictionary_inverted[result]}\""
   ]
  },
  {
   "cell_type": "code",
   "execution_count": 3,
   "metadata": {},
   "outputs": [],
   "source": [
    "def check(a, b, operator):\n",
    "    if (operator in operators_list) and (a in list(numbers_dictionary.keys())[:6]) and (b in list(numbers_dictionary.keys())[:6]):\n",
    "        return True\n",
    "    else:\n",
    "        return False"
   ]
  },
  {
   "cell_type": "code",
   "execution_count": 4,
   "metadata": {},
   "outputs": [],
   "source": [
    "def main():\n",
    "    print('Welcome to this calculator!')\n",
    "    print('It can add and subtract whole numbers from zero to five')\n",
    "    a = input('Please choose your first number (zero to five): ')\n",
    "    operator = input('What do you want to do? plus or minus: ')\n",
    "    b = input('Please choose your second number (zero to five): ')\n",
    "    if check(a, b, operator):\n",
    "        print(operation (a, b, operator))\n",
    "    else:\n",
    "        print(\"I am not able to answer this question. Check your input.\")\n",
    "    print(\"Thanks for using this calculator, goodbye :)\")"
   ]
  },
  {
   "cell_type": "code",
   "execution_count": 8,
   "metadata": {},
   "outputs": [
    {
     "name": "stdout",
     "output_type": "stream",
     "text": [
      "Welcome to this calculator!\n",
      "It can add and subtract whole numbers from zero to five\n",
      "Please choose your first number (zero to five): zero\n",
      "What do you want to do? plus or minus: plus\n",
      "Please choose your second number (zero to five): five\n",
      "zero plus five equals five\n",
      "Thanks for using this calculator, goodbye :)\n"
     ]
    }
   ],
   "source": [
    "main()"
   ]
  },
  {
   "cell_type": "code",
   "execution_count": null,
   "metadata": {},
   "outputs": [],
   "source": []
  }
 ],
 "metadata": {
  "kernelspec": {
   "display_name": "Python 3",
   "language": "python",
   "name": "python3"
  },
  "language_info": {
   "codemirror_mode": {
    "name": "ipython",
    "version": 3
   },
   "file_extension": ".py",
   "mimetype": "text/x-python",
   "name": "python",
   "nbconvert_exporter": "python",
   "pygments_lexer": "ipython3",
   "version": "3.7.7"
  }
 },
 "nbformat": 4,
 "nbformat_minor": 4
}
