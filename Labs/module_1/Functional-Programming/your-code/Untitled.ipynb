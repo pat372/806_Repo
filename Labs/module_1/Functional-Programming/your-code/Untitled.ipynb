{
 "cells": [
  {
   "cell_type": "code",
   "execution_count": 20,
   "metadata": {},
   "outputs": [
    {
     "data": {
      "text/plain": [
       "['MAMAN', 'PAPA', 'ONCLE']"
      ]
     },
     "execution_count": 20,
     "metadata": {},
     "output_type": "execute_result"
    }
   ],
   "source": [
    "list_character= [ 'maman','papa','oncle']\n",
    "def character_string(l):  \n",
    "     return [element.upper()for element in l]\n",
    "    \n",
    "character_string([ 'maman','papa','oncle'])\n",
    "    \n",
    "    \n"
   ]
  },
  {
   "cell_type": "code",
   "execution_count": 17,
   "metadata": {},
   "outputs": [
    {
     "data": {
      "text/plain": [
       "['MAMAN',\n",
       " 'PAPA',\n",
       " <function str.upper()>,\n",
       " <function str.upper()>,\n",
       " 'MAMAN',\n",
       " 'PAPA',\n",
       " 'MAMAN',\n",
       " 'PAPA']"
      ]
     },
     "execution_count": 17,
     "metadata": {},
     "output_type": "execute_result"
    }
   ],
   "source": [
    "list_character= [ 'maman','papa',]\n",
    "for element in list_character:\n",
    "    element.upper()\n",
    "    capital_list_character.append(element.upper())\n",
    "capital_list_character\n"
   ]
  },
  {
   "cell_type": "code",
   "execution_count": 14,
   "metadata": {},
   "outputs": [
    {
     "data": {
      "text/plain": [
       "['MAMAN', 'PAPA']"
      ]
     },
     "execution_count": 14,
     "metadata": {},
     "output_type": "execute_result"
    }
   ],
   "source": [
    "capital_list_character=[element.upper()for element in list_character]\n",
    "capital_list_character"
   ]
  }
 ],
 "metadata": {
  "kernelspec": {
   "display_name": "Python 3",
   "language": "python",
   "name": "python3"
  },
  "language_info": {
   "codemirror_mode": {
    "name": "ipython",
    "version": 3
   },
   "file_extension": ".py",
   "mimetype": "text/x-python",
   "name": "python",
   "nbconvert_exporter": "python",
   "pygments_lexer": "ipython3",
   "version": "3.7.7"
  }
 },
 "nbformat": 4,
 "nbformat_minor": 4
}
