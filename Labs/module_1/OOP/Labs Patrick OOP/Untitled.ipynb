{
 "cells": [
  {
   "cell_type": "code",
   "execution_count": 7,
   "metadata": {},
   "outputs": [],
   "source": [
    "all_psbl_mvs = [1,2,3,4,5,6,7,8,9]\n",
    "win_lst =[[1,2,3],[4,5,6],[7,8,9],[1,4,7],[2,5,8],[3,6,9],[1,5,9],[3,5,7]]\n",
    "pl_mvs =[]\n",
    "cp_mvs =[]\n",
    "\n",
    "#b = \"_\"\n",
    "#c = \"_\"\n",
    "#d = \"_\"\n",
    "#e = \"_\"\n",
    "#f = \"_\"\n",
    "#g = \"_\"\n",
    "#h = \"_\"\n",
    "#i = \"_\"\n",
    "#j = \"_\"\n",
    "list_of_all_moves = [\"_\",\"_\",\"_\",\"_\",\"_\",\"_\",\"_\",\"_\",\"_\"]\n",
    "\n",
    "def create_board(list_of_all_moves):\n",
    "    print(list_of_all_moves[0],list_of_all_moves[1],list_of_all_moves[2])\n",
    "    print(list_of_all_moves[3],list_of_all_moves[4],list_of_all_moves[5])\n",
    "    print(list_of_all_moves[6],list_of_all_moves[7],list_of_all_moves[8])\n",
    "\n",
    "    \n",
    "def game_play():\n",
    "    \n",
    "    import random\n",
    "    print(\"Hello! This is your imaginary board.Each field has its value from 1 to 9, you will choose the field you want to mark, by sellecting value from the keyboard.\\n\")\n",
    "    i = 0\n",
    "    c=1\n",
    "    while i < 5 and c == 1:  \n",
    "        \n",
    "        if len(all_psbl_mvs) != 0:\n",
    "            p = int(input(\"\\nPlease, make your move: \"))\n",
    "            if not (p in all_psbl_mvs): #add condition if user inputs letter\n",
    "                print(\"\\nYou made an incorrect move. Please reread the rules of the game and try again.\\n\")\n",
    "                continue\n",
    "            else:\n",
    "                pl_mvs.append(p)\n",
    "                all_psbl_mvs.remove(p)\n",
    "                list_of_all_moves[p-1] = \"x\"\n",
    "                create_board(list_of_all_moves)\n",
    "                  \n",
    "                    \n",
    "        if len(all_psbl_mvs) != 0:\n",
    "            c = random.choice(all_psbl_mvs)\n",
    "            print(\"PC choses\",c)\n",
    "            cp_mvs.append(c)\n",
    "            all_psbl_mvs.remove(c)\n",
    "            list_of_all_moves[c-1] = \"o\"\n",
    "            create_board(list_of_all_moves)\n",
    "               \n",
    "        i +=1\n",
    "        c = who_won(pl_mvs,cp_mvs)\n",
    "        "
   ]
  }
 ],
 "metadata": {
  "kernelspec": {
   "display_name": "Python 3",
   "language": "python",
   "name": "python3"
  },
  "language_info": {
   "codemirror_mode": {
    "name": "ipython",
    "version": 3
   },
   "file_extension": ".py",
   "mimetype": "text/x-python",
   "name": "python",
   "nbconvert_exporter": "python",
   "pygments_lexer": "ipython3",
   "version": "3.7.6"
  }
 },
 "nbformat": 4,
 "nbformat_minor": 4
}
