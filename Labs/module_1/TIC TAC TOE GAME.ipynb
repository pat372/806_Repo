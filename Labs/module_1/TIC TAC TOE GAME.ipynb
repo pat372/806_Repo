{
 "cells": [
  {
   "cell_type": "code",
   "execution_count": null,
   "metadata": {},
   "outputs": [
    {
     "name": "stdout",
     "output_type": "stream",
     "text": [
      "_ _ _\n",
      "_ _ _\n",
      "_ _ _\n",
      "Hello! This is your imaginary board.Each field has its value from 1 to 9, you will choose the field you want to mark, by sellecting value from the keyboard.\n",
      "\n"
     ]
    }
   ],
   "source": [
    "### The tic-tac-toe, is a puzzle game practiced by two players turn by turn whose goal is to create the first alignment.\n",
    "#They must each fill in turn a box on the grid with the symbol assigned to them: O or X. \n",
    "#The winner is the one who manages to align three identical symbols, horizontally, vertically or diagonally.\n",
    "\n",
    "import random\n",
    "#our variable:\n",
    "# for the board we have nine position \n",
    "all_psbl_mvs = [1,2,3,\n",
    "                4,5,6,\n",
    "                7,8,9]\n",
    "board=[\"_\",\"_\",\"_\",\n",
    "       \"_\",\"_\",\"_\",\n",
    "       \"_\",\"_\",\"_\"]\n",
    "\n",
    "winning_combination= [[1,2,3],[4,5,6],[7,8,9],[1,4,7],[2,5,8],[3,6,9],[1,5,9],[3,5,7]]\n",
    "cp_mvs=[]\n",
    "ply_mvs=[]\n",
    "round_to_win=[]\n",
    "\n",
    "#the first step is to create a board\n",
    "\n",
    "def create_board(board):\n",
    "    print(board[0],board[1],board[2])\n",
    "    print(board[3],board[4],board[5])\n",
    "    print(board[6],board[7],board[8])\n",
    "\n",
    "create_board(board)\n",
    "\n",
    "#let's play : if the player begin to play he will can have 5 round and computer 4 round and vice-versa\n",
    "\n",
    "def game_play():\n",
    "    \n",
    "    import random \n",
    "    print(\"Hello! This is your imaginary board.Each field has its value from 1 to 9, you will choose the field you want to mark, by sellecting value from the keyboard.\\n\")\n",
    "    i = 0\n",
    "    c=1\n",
    "    while i < 5 and c == 1:  \n",
    "        \n",
    "        if len(all_psbl_mvs) != 0:\n",
    "            p = int(input(\"\\nPlease, make your move: \"))\n",
    "            if not (p in all_psbl_mvs): #add condition if user inputs letter\n",
    "                print(\"\\nYou made an incorrect move. Please reread the rules of the game and try again.\\n\")\n",
    "                continue\n",
    "            else:\n",
    "                ply_mvs.append(p)\n",
    "                all_psbl_mvs.remove(p)\n",
    "                board[p-1] = \"x\"\n",
    "                create_board(board)\n",
    "                  \n",
    "                    \n",
    "        if len(all_psbl_mvs) != 0:\n",
    "            c = random.choice(all_psbl_mvs)\n",
    "            print(\"PC choses\",c)\n",
    "            all_psbl_mvs.remove(c)\n",
    "            board[c-1] = \"o\"\n",
    "            create_board(board)\n",
    "               \n",
    "        i +=1\n",
    "        c = who_won(ply_mvs,cp_mvs)\n",
    "\n",
    "    \n",
    "\n",
    "    \n",
    "def who_won(ply_mvs,cp_mvs):\n",
    "    \n",
    "    win_lst =[[1,2,3],[4,5,6],[7,8,9],[1,4,7],[2,5,8],[3,6,9],[1,5,9],[3,5,7]] \n",
    "    a = 0\n",
    "    \n",
    "    while a < 8:\n",
    "        \n",
    "        pl_wins_res = [x for x in ply_mvs if x in win_lst[a]]\n",
    "        cp_wins_res = [y for y in cp_mvs if y in win_lst[a]]\n",
    "        a +=1\n",
    "        \n",
    "        if len(pl_wins_res)>2:\n",
    "            print(\"\\nCongrats, you won!!!!\")\n",
    "            print(\"Your winning moves were:\",pl_wins_res)\n",
    "            return 2\n",
    "        elif len(cp_wins_res)>2: #it doesnt work for PC dont know why\n",
    "            print(\"\\nSorry, you loose and CP won.\")\n",
    "            print(\"CP winning moves were:\",cp_wins_res)\n",
    "            return 2\n",
    "        elif len(pl_wins_res)<3 and len(cp_wins_res)<3 and len(ply_mvs) > 4:\n",
    "            print(\"It is a tie.\")\n",
    "            return 2\n",
    "        \n",
    "    return 1        \n",
    "\n",
    "\n",
    "game_play()\n"
   ]
  },
  {
   "cell_type": "code",
   "execution_count": 1,
   "metadata": {},
   "outputs": [],
   "source": [
    "\n",
    "\n"
   ]
  },
  {
   "cell_type": "code",
   "execution_count": 3,
   "metadata": {},
   "outputs": [
    {
     "data": {
      "text/plain": [
       "[[1, 1], [1, 2]]"
      ]
     },
     "execution_count": 3,
     "metadata": {},
     "output_type": "execute_result"
    }
   ],
   "source": []
  }
 ],
 "metadata": {
  "kernelspec": {
   "display_name": "Python 3",
   "language": "python",
   "name": "python3"
  },
  "language_info": {
   "codemirror_mode": {
    "name": "ipython",
    "version": 3
   },
   "file_extension": ".py",
   "mimetype": "text/x-python",
   "name": "python",
   "nbconvert_exporter": "python",
   "pygments_lexer": "ipython3",
   "version": "3.7.6"
  }
 },
 "nbformat": 4,
 "nbformat_minor": 4
}
