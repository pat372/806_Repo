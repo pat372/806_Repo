{
 "cells": [
  {
   "cell_type": "code",
   "execution_count": 2,
   "metadata": {},
   "outputs": [],
   "source": [
    "import numpy as np"
   ]
  },
  {
   "cell_type": "code",
   "execution_count": 3,
   "metadata": {},
   "outputs": [
    {
     "data": {
      "text/plain": [
       "array([[0.70470997, 0.50448454, 0.53717995, 0.68648482],\n",
       "       [0.92260975, 0.85521964, 0.94730522, 0.69321214],\n",
       "       [0.08801804, 0.73256   , 0.87341502, 0.00846701],\n",
       "       [0.70627981, 0.10753168, 0.30378075, 0.39021463],\n",
       "       [0.62683399, 0.13116923, 0.63027076, 0.81114861],\n",
       "       [0.45189407, 0.55894617, 0.57717475, 0.05028312],\n",
       "       [0.22081786, 0.40473378, 0.83864486, 0.74128717],\n",
       "       [0.4277758 , 0.28516692, 0.04999983, 0.89918913],\n",
       "       [0.72227385, 0.88931372, 0.34457675, 0.19695944],\n",
       "       [0.22304749, 0.61438093, 0.50081179, 0.45374298]])"
      ]
     },
     "execution_count": 3,
     "metadata": {},
     "output_type": "execute_result"
    }
   ],
   "source": [
    "a = np.random.random((10,4))\n",
    "a"
   ]
  },
  {
   "cell_type": "code",
   "execution_count": 5,
   "metadata": {},
   "outputs": [
    {
     "data": {
      "text/plain": [
       "40"
      ]
     },
     "execution_count": 5,
     "metadata": {},
     "output_type": "execute_result"
    }
   ],
   "source": [
    "a.shape\n",
    "a.size"
   ]
  },
  {
   "cell_type": "code",
   "execution_count": 6,
   "metadata": {},
   "outputs": [
    {
     "data": {
      "text/plain": [
       "array([[[0.53244827, 0.39597683, 0.38884561],\n",
       "        [0.15535272, 0.89543756, 0.59114409]],\n",
       "\n",
       "       [[0.95127244, 0.62845783, 0.66943063],\n",
       "        [0.17989253, 0.75224305, 0.13226314]],\n",
       "\n",
       "       [[0.93708231, 0.59760626, 0.35068883],\n",
       "        [0.65027817, 0.20618415, 0.28932419]],\n",
       "\n",
       "       [[0.35475681, 0.23248333, 0.03848599],\n",
       "        [0.33180929, 0.38471221, 0.84482296]],\n",
       "\n",
       "       [[0.41326982, 0.19787992, 0.60277994],\n",
       "        [0.4213858 , 0.54119774, 0.45374046]]])"
      ]
     },
     "execution_count": 6,
     "metadata": {},
     "output_type": "execute_result"
    }
   ],
   "source": [
    "b = np.random.random((5,2,3))\n",
    "b"
   ]
  },
  {
   "cell_type": "code",
   "execution_count": 7,
   "metadata": {},
   "outputs": [
    {
     "data": {
      "text/plain": [
       "array([[[[0.03996662, 0.6625702 , 0.69125417, 0.44652611, 0.73642369],\n",
       "         [0.0510128 , 0.77323674, 0.06566515, 0.60639289, 0.09661563],\n",
       "         [0.09013303, 0.63805982, 0.33575884, 0.87477831, 0.99287947],\n",
       "         [0.1127083 , 0.87082895, 0.30725884, 0.07620631, 0.0104868 ]],\n",
       "\n",
       "        [[0.84120525, 0.22358266, 0.52503566, 0.08392257, 0.11446603],\n",
       "         [0.71370024, 0.5863641 , 0.18505915, 0.21115858, 0.0376272 ],\n",
       "         [0.6321953 , 0.59033846, 0.85756972, 0.45941051, 0.10509766],\n",
       "         [0.02856338, 0.78495441, 0.94360178, 0.67826783, 0.85615197]],\n",
       "\n",
       "        [[0.71516661, 0.35177913, 0.01860014, 0.20233982, 0.19405729],\n",
       "         [0.07900931, 0.54995893, 0.82920581, 0.61692425, 0.87846933],\n",
       "         [0.41465954, 0.3523467 , 0.69940754, 0.88017355, 0.51477935],\n",
       "         [0.75307062, 0.98067365, 0.22554411, 0.27188954, 0.72356156]]],\n",
       "\n",
       "\n",
       "       [[[0.93500648, 0.28269639, 0.6603542 , 0.35031449, 0.46504076],\n",
       "         [0.07738953, 0.19864452, 0.86689974, 0.90468224, 0.72269994],\n",
       "         [0.87724935, 0.96904259, 0.15870452, 0.34712054, 0.55150286],\n",
       "         [0.8022925 , 0.80856697, 0.74153729, 0.84964697, 0.78751819]],\n",
       "\n",
       "        [[0.65218076, 0.55936639, 0.11601021, 0.52101166, 0.65383673],\n",
       "         [0.09608746, 0.84619474, 0.74937191, 0.36382658, 0.25284792],\n",
       "         [0.61050009, 0.8335548 , 0.61441421, 0.23706577, 0.35120184],\n",
       "         [0.31286015, 0.52595587, 0.67369647, 0.72647804, 0.97243426]],\n",
       "\n",
       "        [[0.09987163, 0.96959908, 0.33195404, 0.00538825, 0.58404847],\n",
       "         [0.22070878, 0.68154109, 0.17997742, 0.4937677 , 0.81980374],\n",
       "         [0.39534665, 0.88310515, 0.9006198 , 0.74896709, 0.81563661],\n",
       "         [0.36461062, 0.22438546, 0.24966215, 0.70105617, 0.8826022 ]]]])"
      ]
     },
     "execution_count": 7,
     "metadata": {},
     "output_type": "execute_result"
    }
   ],
   "source": [
    "c = np.random.random((2,3,4,5))\n",
    "c"
   ]
  },
  {
   "cell_type": "code",
   "execution_count": 11,
   "metadata": {},
   "outputs": [
    {
     "data": {
      "text/plain": [
       "0.6302707611927323"
      ]
     },
     "execution_count": 11,
     "metadata": {},
     "output_type": "execute_result"
    }
   ],
   "source": [
    "a[0]\n",
    "a[:,0]\n",
    "a[4,2]"
   ]
  },
  {
   "cell_type": "code",
   "execution_count": 12,
   "metadata": {},
   "outputs": [
    {
     "data": {
      "text/plain": [
       "array([[[0.03996662, 0.6625702 , 0.69125417, 0.44652611, 0.73642369],\n",
       "        [0.0510128 , 0.77323674, 0.06566515, 0.60639289, 0.09661563],\n",
       "        [0.09013303, 0.63805982, 0.33575884, 0.87477831, 0.99287947],\n",
       "        [0.1127083 , 0.87082895, 0.30725884, 0.07620631, 0.0104868 ]],\n",
       "\n",
       "       [[0.84120525, 0.22358266, 0.52503566, 0.08392257, 0.11446603],\n",
       "        [0.71370024, 0.5863641 , 0.18505915, 0.21115858, 0.0376272 ],\n",
       "        [0.6321953 , 0.59033846, 0.85756972, 0.45941051, 0.10509766],\n",
       "        [0.02856338, 0.78495441, 0.94360178, 0.67826783, 0.85615197]],\n",
       "\n",
       "       [[0.71516661, 0.35177913, 0.01860014, 0.20233982, 0.19405729],\n",
       "        [0.07900931, 0.54995893, 0.82920581, 0.61692425, 0.87846933],\n",
       "        [0.41465954, 0.3523467 , 0.69940754, 0.88017355, 0.51477935],\n",
       "        [0.75307062, 0.98067365, 0.22554411, 0.27188954, 0.72356156]]])"
      ]
     },
     "execution_count": 12,
     "metadata": {},
     "output_type": "execute_result"
    }
   ],
   "source": [
    "c[0]"
   ]
  },
  {
   "cell_type": "code",
   "execution_count": 13,
   "metadata": {},
   "outputs": [
    {
     "data": {
      "text/plain": [
       "array([[0.84120525, 0.22358266, 0.52503566, 0.08392257, 0.11446603],\n",
       "       [0.71370024, 0.5863641 , 0.18505915, 0.21115858, 0.0376272 ],\n",
       "       [0.6321953 , 0.59033846, 0.85756972, 0.45941051, 0.10509766],\n",
       "       [0.02856338, 0.78495441, 0.94360178, 0.67826783, 0.85615197]])"
      ]
     },
     "execution_count": 13,
     "metadata": {},
     "output_type": "execute_result"
    }
   ],
   "source": [
    "# Second subgroup of the first group\n",
    "c[0,1]"
   ]
  },
  {
   "cell_type": "code",
   "execution_count": 14,
   "metadata": {},
   "outputs": [
    {
     "data": {
      "text/plain": [
       "array([0.6321953 , 0.59033846, 0.85756972, 0.45941051, 0.10509766])"
      ]
     },
     "execution_count": 14,
     "metadata": {},
     "output_type": "execute_result"
    }
   ],
   "source": [
    "# Third row of the second subgroup\n",
    "c[0,1,2]"
   ]
  },
  {
   "cell_type": "code",
   "execution_count": 15,
   "metadata": {},
   "outputs": [
    {
     "data": {
      "text/plain": [
       "array([[1, 2, 3],\n",
       "       [4, 5, 6],\n",
       "       [7, 8, 9]])"
      ]
     },
     "execution_count": 15,
     "metadata": {},
     "output_type": "execute_result"
    }
   ],
   "source": [
    "lst_lst = [[1,2,3],[4,5,6],[7,8,9]]\n",
    "d = np.array(lst_lst)\n",
    "d"
   ]
  },
  {
   "cell_type": "code",
   "execution_count": 16,
   "metadata": {},
   "outputs": [
    {
     "data": {
      "text/plain": [
       "20.71191600275386"
      ]
     },
     "execution_count": 16,
     "metadata": {},
     "output_type": "execute_result"
    }
   ],
   "source": [
    "# Sum of all elements in matrix a\n",
    "np.sum(a)"
   ]
  },
  {
   "cell_type": "code",
   "execution_count": 17,
   "metadata": {},
   "outputs": [
    {
     "data": {
      "text/plain": [
       "array([5.09426064, 5.08350662, 5.60315969, 4.93098906])"
      ]
     },
     "execution_count": 17,
     "metadata": {},
     "output_type": "execute_result"
    }
   ],
   "source": [
    "# Sum of each column in matrix a\n",
    "np.sum(a, axis=0)"
   ]
  },
  {
   "cell_type": "code",
   "execution_count": 18,
   "metadata": {},
   "outputs": [
    {
     "data": {
      "text/plain": [
       "array([2.43285928, 3.41834676, 1.70246006, 1.50780688, 2.1994226 ,\n",
       "       1.63829811, 2.20548368, 1.66213168, 2.15312377, 1.79198319])"
      ]
     },
     "execution_count": 18,
     "metadata": {},
     "output_type": "execute_result"
    }
   ],
   "source": [
    "# Sum of each row in matrix a\n",
    "np.sum(a, axis=1)"
   ]
  },
  {
   "cell_type": "code",
   "execution_count": 19,
   "metadata": {},
   "outputs": [
    {
     "data": {
      "text/plain": [
       "6.272764677736507"
      ]
     },
     "execution_count": 19,
     "metadata": {},
     "output_type": "execute_result"
    }
   ],
   "source": [
    "# Sum of all the elements in the first two groups of array b\n",
    "np.sum(b[:2])"
   ]
  },
  {
   "cell_type": "code",
   "execution_count": 23,
   "metadata": {},
   "outputs": [
    {
     "data": {
      "text/plain": [
       "0.5227303898113757"
      ]
     },
     "execution_count": 23,
     "metadata": {},
     "output_type": "execute_result"
    }
   ],
   "source": [
    "# Mean of all elements in matrix a\n",
    "np.mean(a)\n",
    "# Mean of each column in matrix a\n",
    "np.mean(a, axis=0)\n",
    "# Mean of each row in matrix a\n",
    "np.mean(a, axis=1)\n",
    "# Mean of all the elements in the first two groups of array b\n",
    "np.mean(b[:2])"
   ]
  },
  {
   "cell_type": "code",
   "execution_count": 25,
   "metadata": {},
   "outputs": [
    {
     "data": {
      "text/plain": [
       "array([[0, 1],\n",
       "       [2, 3]])"
      ]
     },
     "execution_count": 25,
     "metadata": {},
     "output_type": "execute_result"
    }
   ],
   "source": [
    "x = np.arange(4).reshape((2,2))\n",
    "x"
   ]
  },
  {
   "cell_type": "code",
   "execution_count": 26,
   "metadata": {},
   "outputs": [
    {
     "data": {
      "text/plain": [
       "array([[[1., 1., 1.],\n",
       "        [1., 1., 1.]]])"
      ]
     },
     "execution_count": 26,
     "metadata": {},
     "output_type": "execute_result"
    }
   ],
   "source": [
    "x = np.ones((1, 2, 3))\n",
    "x"
   ]
  },
  {
   "cell_type": "code",
   "execution_count": 27,
   "metadata": {},
   "outputs": [
    {
     "data": {
      "text/plain": [
       "(2, 1, 3)"
      ]
     },
     "execution_count": 27,
     "metadata": {},
     "output_type": "execute_result"
    }
   ],
   "source": [
    "np.transpose(x, (1, 0, 2)).shape\n",
    "(2, 1, 3)"
   ]
  },
  {
   "cell_type": "code",
   "execution_count": null,
   "metadata": {},
   "outputs": [],
   "source": []
  }
 ],
 "metadata": {
  "kernelspec": {
   "display_name": "Python 3",
   "language": "python",
   "name": "python3"
  },
  "language_info": {
   "codemirror_mode": {
    "name": "ipython",
    "version": 3
   },
   "file_extension": ".py",
   "mimetype": "text/x-python",
   "name": "python",
   "nbconvert_exporter": "python",
   "pygments_lexer": "ipython3",
   "version": "3.7.7"
  }
 },
 "nbformat": 4,
 "nbformat_minor": 4
}
